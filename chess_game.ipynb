{
 "cells": [
  {
   "cell_type": "code",
   "execution_count": 1,
   "id": "d12824fb-1f2e-4725-b757-605ef312388e",
   "metadata": {
    "tags": []
   },
   "outputs": [],
   "source": [
    "import chess\n",
    "import chess.svg\n",
    "\n",
    "import torch\n",
    "import json\n",
    "import chess\n",
    "import numpy as np"
   ]
  },
  {
   "cell_type": "code",
   "execution_count": 2,
   "id": "8ce3398b-d2da-4106-8e2f-ee592c233669",
   "metadata": {
    "tags": []
   },
   "outputs": [],
   "source": [
    "device = torch.device(\"cuda\" if torch.cuda.is_available() else \"cpu\")"
   ]
  },
  {
   "cell_type": "code",
   "execution_count": 3,
   "id": "33bcc988-6cd0-43d9-9e63-b7bbacdf62b4",
   "metadata": {
    "tags": []
   },
   "outputs": [],
   "source": [
    "import torch\n",
    "import torch.nn as nn\n",
    "\n",
    "class ChessMovePredictor(nn.Module):\n",
    "    def __init__(self, num_moves):\n",
    "        super().__init__()\n",
    "        self.conv1 = nn.Conv2d(13, 32, kernel_size=3, padding=1)\n",
    "        self.conv2 = nn.Conv2d(32, 64, kernel_size=3, padding=1)\n",
    "        self.pool = nn.MaxPool2d(2, 2)\n",
    "        self.fc1 = nn.Linear(64*4*4, 256)\n",
    "        self.fc_move = nn.Linear(256, num_moves)  # ראש המהלך\n",
    "        self.fc_eval = nn.Linear(256, 1)          # ראש הציון\n",
    "\n",
    "    def forward(self, x):\n",
    "        x = torch.relu(self.conv1(x))\n",
    "        x = self.pool(torch.relu(self.conv2(x)))\n",
    "        x = x.view(x.size(0), -1)\n",
    "        x = torch.relu(self.fc1(x))\n",
    "        return self.fc_move(x), self.fc_eval(x)"
   ]
  },
  {
   "cell_type": "code",
   "execution_count": 4,
   "id": "daf8fb3a-e75f-47b6-bea1-96ba26f542dc",
   "metadata": {
    "tags": []
   },
   "outputs": [
    {
     "data": {
      "text/plain": [
       "ChessMovePredictor(\n",
       "  (conv1): Conv2d(13, 32, kernel_size=(3, 3), stride=(1, 1), padding=(1, 1))\n",
       "  (conv2): Conv2d(32, 64, kernel_size=(3, 3), stride=(1, 1), padding=(1, 1))\n",
       "  (pool): MaxPool2d(kernel_size=2, stride=2, padding=0, dilation=1, ceil_mode=False)\n",
       "  (fc1): Linear(in_features=1024, out_features=256, bias=True)\n",
       "  (fc_move): Linear(in_features=256, out_features=1879, bias=True)\n",
       "  (fc_eval): Linear(in_features=256, out_features=1, bias=True)\n",
       ")"
      ]
     },
     "execution_count": 4,
     "metadata": {},
     "output_type": "execute_result"
    }
   ],
   "source": [
    "with open('move_idx.json', 'r') as f:\n",
    "    move2idx = json.load(f)\n",
    "\n",
    "model = ChessMovePredictor(num_moves=len(move2idx))\n",
    "model.load_state_dict(torch.load(\"chess-project/chess_model.pth\", map_location=\"cpu\"))\n",
    "model.eval()\n"
   ]
  },
  {
   "cell_type": "code",
   "execution_count": 5,
   "id": "53148bae-e05e-43b3-b123-a0cfef2c53d8",
   "metadata": {
    "tags": []
   },
   "outputs": [],
   "source": [
    "piece_map = {'P':0,'N':1,'B':2,'R':3,'Q':4,'K':5,\n",
    "             'p':6,'n':7,'b':8,'r':9,'q':10,'k':11}\n",
    "\n",
    "def fen_to_tensor(fen):\n",
    "    board = chess.Board(fen)\n",
    "    mat = np.zeros((8,8,12), dtype=np.float32)\n",
    "    for square in chess.SQUARES:\n",
    "        piece = board.piece_at(square)\n",
    "        if piece:\n",
    "            row = 7 - chess.square_rank(square)\n",
    "            col = chess.square_file(square)\n",
    "            mat[row, col, piece_map[piece.symbol()]] = 1.0\n",
    "    turn_channel = np.full((8,8,1), int(board.turn), dtype=np.float32)\n",
    "    mat = np.concatenate([mat, turn_channel], axis=-1)\n",
    "    return mat\n",
    "\n",
    "\n",
    "def choose_move(board):\n",
    "    \n",
    "    legal_moves = list(board.legal_moves)\n",
    "    board_tensor = torch.tensor(fen_to_tensor(board.fen()), dtype=torch.float32)\n",
    "    board_tensor = board_tensor.permute(2, 0, 1).unsqueeze(0).to(device)\n",
    "\n",
    "    pred_move, pred_eval = model(board_tensor)\n",
    "\n",
    "    score = pred_eval.item()\n",
    "    \n",
    "    \n",
    "    legal_moves = list(board.legal_moves)\n",
    "    best_move = None\n",
    "    best_score = -float('inf')\n",
    "\n",
    "    for move in legal_moves:\n",
    "        board.push(move)\n",
    "        \n",
    "\n",
    "        if score > best_score:\n",
    "            print(score)\n",
    "            best_score = score\n",
    "            best_move = move\n",
    "    print(best_move)\n",
    "    return best_move\n",
    "\n",
    "\n",
    "def choose_move(board):\n",
    "    legal_moves = list(board.legal_moves)\n",
    "    best_move = None\n",
    "    best_score = -float('inf')\n",
    "\n",
    "    for move in legal_moves:\n",
    "        board.push(move)\n",
    "        board_tensor = torch.tensor(fen_to_tensor(board.fen()), dtype=torch.float32)\n",
    "        board_tensor = board_tensor.permute(2, 0, 1).unsqueeze(0).to(device)\n",
    "\n",
    "        _, pred_eval = model(board_tensor)\n",
    "\n",
    "        score = pred_eval.item()\n",
    "        board.pop()\n",
    "\n",
    "        if score > best_score:\n",
    "            print(score)\n",
    "            best_score = score\n",
    "            best_move = move\n",
    "    print(best_move)\n",
    "    return best_move"
   ]
  },
  {
   "cell_type": "code",
   "execution_count": 23,
   "id": "e06a8381-fce1-4986-a3a3-dd2c629aebf6",
   "metadata": {
    "tags": []
   },
   "outputs": [],
   "source": [
    "def help_func(play):\n",
    "    if play == \"h\":\n",
    "        print(\"*chess game explained*\")\n",
    "    if play == \"m\":\n",
    "        print(\"|\".join([move.uci() for move in board.legal_moves]))"
   ]
  },
  {
   "cell_type": "code",
   "execution_count": 25,
   "id": "1b671395-68cc-4c2f-9349-32aef8b31ee3",
   "metadata": {
    "tags": []
   },
   "outputs": [
    {
     "name": "stdout",
     "output_type": "stream",
     "text": [
      "r n b q k b n r\n",
      "p p p p p p p p\n",
      ". . . . . . . .\n",
      ". . . . . . . .\n",
      ". . . . . . . .\n",
      ". . . . . . . .\n",
      "P P P P P P P P\n",
      "R N B Q K B N R\n",
      "-0.10500792413949966\n",
      "0.015210963785648346\n",
      "0.04813547432422638\n",
      "c2c4\n",
      "r n b q k b n r\n",
      "p p p p p p p p\n",
      ". . . . . . . .\n",
      ". . . . . . . .\n",
      ". . P . . . . .\n",
      ". . . . . . . .\n",
      "P P . P P P P P\n",
      "R N B Q K B N R\n",
      "-0.11630070954561234\n",
      "0.14086708426475525\n",
      "0.16627046465873718\n",
      "0.2791438698768616\n",
      "0.4573453664779663\n",
      "d7d5\n",
      "r n b q k b n r\n",
      "p p p . p p p p\n",
      ". . . . . . . .\n",
      ". . . p . . . .\n",
      ". . P . . . . .\n",
      ". . . . . . . .\n",
      "P P . P P P P P\n",
      "R N B Q K B N R\n",
      "0.019035741686820984\n",
      "0.03468596190214157\n",
      "0.22913143038749695\n",
      "e2e4\n",
      "r n b q k b n r\n",
      "p p p . p p p p\n",
      ". . . . . . . .\n",
      ". . . p . . . .\n",
      ". . P . P . . .\n",
      ". . . . . . . .\n",
      "P P . P . P P P\n",
      "R N B Q K B N R\n",
      "0.40337997674942017\n",
      "0.7098240256309509\n",
      "g8f6\n",
      "r n b q k b . r\n",
      "p p p . p p p p\n",
      ". . . . . n . .\n",
      ". . . p . . . .\n",
      ". . P . P . . .\n",
      ". . . . . . . .\n",
      "P P . P . P P P\n",
      "R N B Q K B N R\n",
      "0.3402978181838989\n",
      "0.3867666721343994\n",
      "e1e2\n",
      "r n b q k b . r\n",
      "p p p . p p p p\n",
      ". . . . . n . .\n",
      ". . . p . . . .\n",
      ". . P . P . . .\n",
      ". . . . . . . .\n",
      "P P . P K P P P\n",
      "R N B Q . B N R\n",
      "0.500840961933136\n",
      "0.637107789516449\n",
      "0.6467815041542053\n",
      "0.6641495823860168\n",
      "h7h5\n",
      "r n b q k b . r\n",
      "p p p . p p p .\n",
      ". . . . . n . .\n",
      ". . . p . . . p\n",
      ". . P . P . . .\n",
      ". . . . . . . .\n",
      "P P . P K P P P\n",
      "R N B Q . B N R\n",
      "0.10273132473230362\n",
      "0.11910177022218704\n",
      "0.25085020065307617\n",
      "0.4231809973716736\n",
      "g1h3\n",
      "r n b q k b . r\n",
      "p p p . p p p .\n",
      ". . . . . n . .\n",
      ". . . p . . . p\n",
      ". . P . P . . .\n",
      ". . . . . . . N\n",
      "P P . P K P P P\n",
      "R N B Q . B . R\n",
      "0.5239333510398865\n",
      "0.6302632689476013\n",
      "0.6461897492408752\n",
      "b7b6\n",
      "game over: *\n"
     ]
    }
   ],
   "source": [
    "board = chess.Board()\n",
    "count = 0\n",
    "while not board.is_game_over():\n",
    "    print(board)\n",
    "    move = choose_move(board)\n",
    "    board.push(move)\n",
    "    \n",
    "    count+=1\n",
    "    if count>7:\n",
    "        break\n",
    "print(\"game over:\", board.result())\n"
   ]
  },
  {
   "cell_type": "code",
   "execution_count": 14,
   "id": "3736c83d-b351-4ce2-9cf7-353d90307eca",
   "metadata": {
    "tags": []
   },
   "outputs": [
    {
     "name": "stdout",
     "output_type": "stream",
     "text": [
      "r n b q k b n r\n",
      "p p p p p p p p\n",
      ". . . . . . . .\n",
      ". . . . . . . .\n",
      ". . . . . . . .\n",
      ". . . . . . . .\n",
      "P P P P P P P P\n",
      "R N B Q K B N R\n",
      "-0.10500792413949966\n",
      "0.015210963785648346\n",
      "0.04813547432422638\n",
      "c2c4\n",
      "r n b q k b n r\n",
      "p p p p p p p p\n",
      ". . . . . . . .\n",
      ". . . . . . . .\n",
      ". . P . . . . .\n",
      ". . . . . . . .\n",
      "P P . P P P P P\n",
      "R N B Q K B N R\n",
      "play legal move \n",
      " --------- help (h) | legal moves (moves) ---------\n",
      "unexpected input\n",
      "r n b q k b n r\n",
      "p p p p p p p p\n",
      ". . . . . . . .\n",
      ". . . . . . . .\n",
      ". . P . . . . .\n",
      ". . . . . . . .\n",
      "P P . P P P P P\n",
      "R N B Q K B N R\n",
      "play legal move \n",
      " --------- help (h) | legal moves (moves) ---------\n",
      "unexpected input\n",
      "r n b q k b n r\n",
      "p p p p p p p p\n",
      ". . . . . . . .\n",
      ". . . . . . . .\n",
      ". . P . . . . .\n",
      ". . . . . . . .\n",
      "P P . P P P P P\n",
      "R N B Q K B N R\n",
      "play legal move \n",
      " --------- help (h) | legal moves (moves) ---------\n",
      "unexpected input\n",
      "game over: *\n"
     ]
    }
   ],
   "source": [
    "board = chess.Board()\n",
    "count = 0\n",
    "while not board.is_game_over():\n",
    "    print(board)\n",
    "    if board.turn == chess.WHITE:\n",
    "        move = choose_move(board)\n",
    "        board.push(move)\n",
    "    else:\n",
    "        try:\n",
    "            play = input(\"play legal move\\n------- help (h) | legal moves (m) -------\")\n",
    "            while play == \"h\" or play == \"m\":\n",
    "                help_func(play)\n",
    "                play = input(\"play legal move\\n------- help (h) | legal moves (m) -------\")\n",
    "            move = chess.Move.from_uci(play)\n",
    "            if move in board.legal_moves:\n",
    "                board.push(move)\n",
    "            else:\n",
    "                print(\"illegal move\")\n",
    "        except:\n",
    "            print(\"unexpected input\")\n",
    "    \n",
    "    count+=1\n",
    "    if count>3:\n",
    "        break\n",
    "print(\"game over:\", board.result())\n"
   ]
  },
  {
   "cell_type": "code",
   "execution_count": 12,
   "id": "78f68a07-9ba9-4ac5-a6cb-b2a8413b9cd2",
   "metadata": {
    "tags": []
   },
   "outputs": [
    {
     "data": {
      "text/plain": [
       "[Move.from_uci('g1h3'),\n",
       " Move.from_uci('g1f3'),\n",
       " Move.from_uci('b1c3'),\n",
       " Move.from_uci('b1a3'),\n",
       " Move.from_uci('h2h3'),\n",
       " Move.from_uci('g2g3'),\n",
       " Move.from_uci('f2f3'),\n",
       " Move.from_uci('e2e3'),\n",
       " Move.from_uci('d2d3'),\n",
       " Move.from_uci('c2c3'),\n",
       " Move.from_uci('b2b3'),\n",
       " Move.from_uci('a2a3'),\n",
       " Move.from_uci('h2h4'),\n",
       " Move.from_uci('g2g4'),\n",
       " Move.from_uci('f2f4'),\n",
       " Move.from_uci('e2e4'),\n",
       " Move.from_uci('d2d4'),\n",
       " Move.from_uci('c2c4'),\n",
       " Move.from_uci('b2b4'),\n",
       " Move.from_uci('a2a4')]"
      ]
     },
     "execution_count": 12,
     "metadata": {},
     "output_type": "execute_result"
    }
   ],
   "source": [
    "board = chess.Board()\n",
    "[move for move in board.legal_moves]"
   ]
  },
  {
   "cell_type": "code",
   "execution_count": 21,
   "id": "96c6a0cc-9af5-4eac-a5e4-576135ac4e0e",
   "metadata": {
    "tags": []
   },
   "outputs": [],
   "source": [
    "a = []\n",
    "for move in board.legal_moves:\n",
    "    a.append(move.uci())"
   ]
  },
  {
   "cell_type": "code",
   "execution_count": 22,
   "id": "17c9edd4-0e1d-4de6-914b-c147a9448b79",
   "metadata": {
    "tags": []
   },
   "outputs": [
    {
     "data": {
      "text/plain": [
       "['g8h6',\n",
       " 'g8f6',\n",
       " 'b8c6',\n",
       " 'b8a6',\n",
       " 'h7h6',\n",
       " 'g7g6',\n",
       " 'f7f6',\n",
       " 'e7e6',\n",
       " 'd7d6',\n",
       " 'c7c6',\n",
       " 'b7b6',\n",
       " 'a7a6',\n",
       " 'h7h5',\n",
       " 'g7g5',\n",
       " 'f7f5',\n",
       " 'e7e5',\n",
       " 'd7d5',\n",
       " 'c7c5',\n",
       " 'b7b5',\n",
       " 'a7a5']"
      ]
     },
     "execution_count": 22,
     "metadata": {},
     "output_type": "execute_result"
    }
   ],
   "source": [
    "a"
   ]
  },
  {
   "cell_type": "code",
   "execution_count": null,
   "id": "31112a48-2fb1-4de4-80c7-129ec2304526",
   "metadata": {},
   "outputs": [],
   "source": []
  }
 ],
 "metadata": {
  "kernelspec": {
   "display_name": "Python 3 (ipykernel)",
   "language": "python",
   "name": "python3"
  },
  "language_info": {
   "codemirror_mode": {
    "name": "ipython",
    "version": 3
   },
   "file_extension": ".py",
   "mimetype": "text/x-python",
   "name": "python",
   "nbconvert_exporter": "python",
   "pygments_lexer": "ipython3",
   "version": "3.11.5"
  }
 },
 "nbformat": 4,
 "nbformat_minor": 5
}
