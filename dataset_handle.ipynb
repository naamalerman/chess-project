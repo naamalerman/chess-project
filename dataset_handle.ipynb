{
 "cells": [
  {
   "cell_type": "code",
   "execution_count": 133,
   "id": "3c74aa01-fd1a-43b4-b3fd-0424f8ae5433",
   "metadata": {
    "tags": []
   },
   "outputs": [],
   "source": [
    "import re\n",
    "import csv\n",
    "import json\n",
    "import chess\n",
    "import numpy as np\n",
    "import pandas as pd\n",
    "from tqdm import tqdm\n",
    "from itertools import islice\n",
    "from datasets import load_dataset\n",
    "\n",
    "\n",
    "import torch\n",
    "from torch.nn.utils.rnn import pad_sequence\n",
    "from torch.utils.data import DataLoader, TensorDataset"
   ]
  },
  {
   "cell_type": "markdown",
   "id": "9ab5ef1c-b868-42fd-a265-8b080d1a167c",
   "metadata": {},
   "source": [
    "# Data Arrangement"
   ]
  },
  {
   "cell_type": "code",
   "execution_count": 134,
   "id": "2bf3b79d-89f2-4f04-b847-000bf610f507",
   "metadata": {
    "scrolled": true,
    "tags": []
   },
   "outputs": [],
   "source": [
    "ds = load_dataset(\"Lichess/tournament-chess-games\", split=\"train\", streaming=True)"
   ]
  },
  {
   "cell_type": "code",
   "execution_count": 157,
   "id": "67936170-3d97-4693-a889-cb832de4d83b",
   "metadata": {
    "tags": []
   },
   "outputs": [],
   "source": [
    "def extract_positions_and_evals(moves_str):\n",
    "    move_san, fen_positions, evals = [], [], []\n",
    "    board = chess.Board()\n",
    "    moves = re.findall(r'. (o-o|o-o-o|O-O|O-O-O|\\w{2,5})[+?!]*? { \\[%eval (.*?)]', moves_str)\n",
    "    for pose, val in moves[:100]:\n",
    "        try:\n",
    "            move_san.append(board.parse_san(pose).uci())\n",
    "            board.push_san(pose)\n",
    "            if '#' in val:\n",
    "                val = 1000 if not val.startswith('-') else -1000\n",
    "            else:\n",
    "                val = float(val)\n",
    "            \n",
    "            fen_positions.append(board.fen())\n",
    "            evals.append(val)\n",
    "        except:\n",
    "            return move_san, fen_positions, evals, 0\n",
    "    \n",
    "    return move_san, fen_positions, evals, 1"
   ]
  },
  {
   "cell_type": "code",
   "execution_count": 136,
   "id": "a5296376-ef3f-43ed-80ed-da4f0b01c754",
   "metadata": {
    "tags": []
   },
   "outputs": [],
   "source": [
    "sample_iter = islice(ds, 10_000)\n",
    "sample_list = list(sample_iter)"
   ]
  },
  {
   "cell_type": "code",
   "execution_count": 158,
   "id": "5a0ac51a-a10f-4b4b-8c85-76ea73d4c509",
   "metadata": {
    "scrolled": true,
    "tags": []
   },
   "outputs": [
    {
     "name": "stderr",
     "output_type": "stream",
     "text": [
      "10000it [00:19, 515.15it/s]"
     ]
    },
    {
     "name": "stdout",
     "output_type": "stream",
     "text": [
      "0.9838\n"
     ]
    },
    {
     "name": "stderr",
     "output_type": "stream",
     "text": [
      "\n"
     ]
    }
   ],
   "source": [
    "all_moves, positions, labels, game_ids = [], [], [], []\n",
    "success = 0\n",
    "for game_id, row in tqdm(enumerate(sample_list)):\n",
    "    moves_list, fen_list, eval_list, count = extract_positions_and_evals(row[\"movetext\"])\n",
    "    success+=count\n",
    "    positions.extend(fen_list)\n",
    "    labels.extend(eval_list)\n",
    "    game_ids.extend([game_id] * len(fen_list))\n",
    "    all_moves.extend(moves_list[:len(fen_list)])\n",
    "\n",
    "print(success/10000)\n",
    "df = pd.DataFrame({\"id\":game_ids, \"fen\": positions, \"move\": all_moves, \"eval\": labels})\n",
    "df.to_csv(\"chess_positions.csv\", index=False)"
   ]
  },
  {
   "cell_type": "markdown",
   "id": "fb784857-7fa0-4878-baf9-162eec775206",
   "metadata": {},
   "source": [
    "# Fitting The Data To The Model"
   ]
  },
  {
   "cell_type": "code",
   "execution_count": null,
   "id": "b8fd94c3-fd01-4999-94ee-2e5ceffff3f1",
   "metadata": {
    "tags": []
   },
   "outputs": [],
   "source": [
    "df = pd.read_csv(\"chess_positions.csv\")"
   ]
  },
  {
   "cell_type": "code",
   "execution_count": 120,
   "id": "848aa182-5ac5-409d-8d08-fce9ecc633bd",
   "metadata": {
    "tags": []
   },
   "outputs": [],
   "source": [
    "piece_map = {'P':0,'N':1,'B':2,'R':3,'Q':4,'K':5,\n",
    "             'p':6,'n':7,'b':8,'r':9,'q':10,'k':11}\n",
    "\n",
    "def fen_to_tensor(fen):\n",
    "    board = chess.Board(fen)\n",
    "    mat = np.zeros((8,8,12), dtype=np.float32)\n",
    "    for square in chess.SQUARES:\n",
    "        piece = board.piece_at(square)\n",
    "        if piece:\n",
    "            row = 7 - chess.square_rank(square)\n",
    "            col = chess.square_file(square)\n",
    "            mat[row, col, piece_map[piece.symbol()]] = 1.0\n",
    "    turn_channel = np.full((8,8,1), int(board.turn), dtype=np.float32)\n",
    "    mat = np.concatenate([mat, turn_channel], axis=-1)\n",
    "    return mat"
   ]
  },
  {
   "cell_type": "code",
   "execution_count": 121,
   "id": "3c304441-6a8e-417f-aca2-4b09ff3a50bd",
   "metadata": {
    "tags": []
   },
   "outputs": [],
   "source": [
    "all_moves = sorted(set(df[\"move\"].to_list()))\n",
    "move2idx = {m:i for i,m in enumerate(all_moves)}\n",
    "idx2move = {i:m for m,i in move2idx.items()}\n",
    "\n",
    "X_list = [fen_to_tensor(fen) for fen in df[\"fen\"]]\n",
    "\n",
    "X = torch.tensor(np.array(X_list), dtype=torch.float32).permute(0,3,1,2)\n",
    "y_move = torch.tensor([move2idx[m] for m in df[\"move\"]], dtype=torch.long)\n",
    "y_eval = torch.tensor(df[\"eval\"].values, dtype=torch.float32)"
   ]
  },
  {
   "cell_type": "code",
   "execution_count": null,
   "id": "15fccefa-9dd3-44e6-b482-8ddb259ab65a",
   "metadata": {},
   "outputs": [],
   "source": [
    "torch.save({\"X\": X, \"y_move\": y_move, \"y_eval\": y_eval}, \"data.pt\")\n",
    "\n",
    "with open('my_dict.json', 'w') as f:\n",
    "    json.dump(move2idx, f)"
   ]
  },
  {
   "cell_type": "markdown",
   "id": "21d632e7-d268-40ec-9de9-76644c1cedc3",
   "metadata": {
    "tags": []
   },
   "source": [
    "# Training"
   ]
  },
  {
   "cell_type": "code",
   "execution_count": 68,
   "id": "a443144e-bc89-4979-b69c-64eccc8395a0",
   "metadata": {
    "tags": []
   },
   "outputs": [],
   "source": [
    "# simple model\n",
    "import torch\n",
    "import torch.nn as nn\n",
    "\n",
    "class ChessMovePredictor(nn.Module):\n",
    "    def __init__(self, num_moves):\n",
    "        super().__init__()\n",
    "        self.conv1 = nn.Conv2d(13, 32, kernel_size=3, padding=1)\n",
    "        self.conv2 = nn.Conv2d(32, 64, kernel_size=3, padding=1)\n",
    "        self.pool = nn.MaxPool2d(2, 2)\n",
    "        self.fc1 = nn.Linear(64*4*4, 256)\n",
    "        self.fc_move = nn.Linear(256, num_moves)  # ראש המהלך\n",
    "        self.fc_eval = nn.Linear(256, 1)          # ראש הציון\n",
    "\n",
    "    def forward(self, x):\n",
    "        x = torch.relu(self.conv1(x))\n",
    "        x = self.pool(torch.relu(self.conv2(x)))\n",
    "        x = x.view(x.size(0), -1)\n",
    "        x = torch.relu(self.fc1(x))\n",
    "        return self.fc_move(x), self.fc_eval(x)"
   ]
  },
  {
   "cell_type": "code",
   "execution_count": null,
   "id": "3c3d6a08-ab13-4c8e-9ddc-ead47dedaef2",
   "metadata": {},
   "outputs": [],
   "source": [
    "data = torch.load(\"data.pt\")\n",
    "X = data[\"X\"]\n",
    "y_move = data[\"y_move\"]\n",
    "y_eval = data[\"y_eval\"]\n",
    "\n",
    "with open('my_dict.json', 'r') as f:\n",
    "    move2idx = json.load(f)"
   ]
  },
  {
   "cell_type": "code",
   "execution_count": 64,
   "id": "04d1d1f7-fa37-46dd-97fd-4512267f15ed",
   "metadata": {
    "tags": []
   },
   "outputs": [],
   "source": [
    "dataset = TensorDataset(X, y_move, y_eval)\n",
    "loader = DataLoader(dataset, batch_size=16, shuffle=True)\n",
    "\n",
    "# device = torch.device(\"cpu\")\n",
    "device = torch.device(\"cuda\" if torch.cuda.is_available() else \"cpu\")\n",
    "model = ChessMovePredictor(num_moves=len(move2idx)).to(device)\n",
    "\n",
    "criterion_move = nn.CrossEntropyLoss(ignore_index=-1)\n",
    "criterion_eval = nn.MSELoss()\n",
    "optimizer = torch.optim.Adam(model.parameters(), lr=1e-3)"
   ]
  },
  {
   "cell_type": "code",
   "execution_count": null,
   "id": "e5c7430e-eae8-4f28-ad4d-876460613057",
   "metadata": {},
   "outputs": [],
   "source": [
    "beta = 1.0\n",
    "lambda_eval = 0.5\n",
    "\n",
    "for epoch in range(5):\n",
    "    model.train()\n",
    "    total_loss = 0.0\n",
    "    total_weight = 0.0\n",
    "\n",
    "    for X_batch, y_move_batch, y_eval_batch in loader:\n",
    "        X_batch = X_batch.to(device)\n",
    "        y_move_batch = y_move_batch.to(device)\n",
    "        y_eval_batch = y_eval_batch.to(device)\n",
    "\n",
    "        optimizer.zero_grad()\n",
    "        logits_move, pred_eval = model(X_batch)\n",
    "\n",
    "        loss_per_example = criterion_move(logits_move, y_move_batch)\n",
    "\n",
    "        # normalized\n",
    "        y_eval_min = y_eval_batch.min()\n",
    "        y_eval_max = y_eval_batch.max()\n",
    "        if y_eval_max - y_eval_min < 1e-8:\n",
    "            y_eval_norm = torch.zeros_like(y_eval_batch)\n",
    "        else:\n",
    "            y_eval_norm = (y_eval_batch - y_eval_min) / (y_eval_max - y_eval_min)\n",
    "\n",
    "        weights = torch.exp(beta * y_eval_norm)\n",
    "        weighted_loss = (loss_per_example * weights).mean()\n",
    "        loss_eval = criterion_eval(pred_eval.squeeze(), y_eval_batch)\n",
    "        total_batch_loss = weighted_loss + lambda_eval * loss_eval\n",
    "\n",
    "        if torch.isnan(total_batch_loss) or torch.isinf(total_batch_loss):\n",
    "            print(\"NaN or Inf loss detected, skipping batch\")\n",
    "            continue\n",
    "\n",
    "        total_batch_loss.backward()\n",
    "\n",
    "        torch.nn.utils.clip_grad_norm_(model.parameters(), max_norm=1.0)\n",
    "\n",
    "        optimizer.step()\n",
    "\n",
    "        total_loss += (loss_per_example * weights).sum().item()\n",
    "        total_weight += weights.sum().item()\n",
    "\n",
    "    epoch_loss = total_loss / (total_weight + 1e-8)\n",
    "    print(f\"Epoch {epoch+1}, Loss: {epoch_loss:.4f}\")"
   ]
  },
  {
   "cell_type": "code",
   "execution_count": null,
   "id": "6bc74b0f-2f52-43d6-a256-e6fdb495ae8c",
   "metadata": {},
   "outputs": [],
   "source": [
    "torch.save(model.state_dict(), \"chess_model.pth\")"
   ]
  },
  {
   "cell_type": "code",
   "execution_count": null,
   "id": "4b470aee-908e-4071-97e7-bee47aac6eff",
   "metadata": {},
   "outputs": [],
   "source": []
  }
 ],
 "metadata": {
  "kernelspec": {
   "display_name": "Python 3 (ipykernel)",
   "language": "python",
   "name": "python3"
  },
  "language_info": {
   "codemirror_mode": {
    "name": "ipython",
    "version": 3
   },
   "file_extension": ".py",
   "mimetype": "text/x-python",
   "name": "python",
   "nbconvert_exporter": "python",
   "pygments_lexer": "ipython3",
   "version": "3.11.5"
  }
 },
 "nbformat": 4,
 "nbformat_minor": 5
}
