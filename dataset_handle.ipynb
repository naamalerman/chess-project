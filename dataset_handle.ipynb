{
 "cells": [
  {
   "cell_type": "code",
   "execution_count": 2,
   "id": "3c74aa01-fd1a-43b4-b3fd-0424f8ae5433",
   "metadata": {
    "tags": []
   },
   "outputs": [],
   "source": [
    "import re\n",
    "import csv\n",
    "import chess\n",
    "import numpy as np\n",
    "import pandas as pd\n",
    "from tqdm import tqdm\n",
    "from itertools import islice\n",
    "from datasets import load_dataset"
   ]
  },
  {
   "cell_type": "markdown",
   "id": "9ab5ef1c-b868-42fd-a265-8b080d1a167c",
   "metadata": {},
   "source": [
    "# Data Arrangement"
   ]
  },
  {
   "cell_type": "code",
   "execution_count": 3,
   "id": "2bf3b79d-89f2-4f04-b847-000bf610f507",
   "metadata": {
    "scrolled": true,
    "tags": []
   },
   "outputs": [],
   "source": [
    "ds = load_dataset(\"Lichess/tournament-chess-games\", split=\"train\", streaming=True)"
   ]
  },
  {
   "cell_type": "code",
   "execution_count": 92,
   "id": "77ae334d-0849-40c9-82ed-53f0660b7c6a",
   "metadata": {
    "tags": []
   },
   "outputs": [
    {
     "data": {
      "text/plain": [
       "'rnbqkbnr/pppppppp/8/8/8/8/PPPPPPPP/RNBQKBNR w KQkq - 0 1'"
      ]
     },
     "execution_count": 92,
     "metadata": {},
     "output_type": "execute_result"
    }
   ],
   "source": [
    "board = chess.Board()\n",
    "board.fen()"
   ]
  },
  {
   "cell_type": "code",
   "execution_count": 118,
   "id": "67936170-3d97-4693-a889-cb832de4d83b",
   "metadata": {
    "tags": []
   },
   "outputs": [],
   "source": [
    "def extract_positions_and_evals(moves_str):\n",
    "    fen_positions, evals = [], []\n",
    "    board = chess.Board()\n",
    "    moves = re.findall(r'. (o-o|o-o-o|O-O|O-O-O|\\w{2,5})[+?!]*? { \\[%eval (.*?)]', moves_str)\n",
    "    for pose, val in moves:\n",
    "        try:\n",
    "            board.push_san(pose)\n",
    "            if '#' in val:\n",
    "                val = 1000 if not val.startswith('-') else -1000\n",
    "            else:\n",
    "                val = float(val)\n",
    "            \n",
    "            fen_positions.append(board.fen())\n",
    "            evals.append(val)\n",
    "        except:\n",
    "            return [pose[0] for pose in moves], fen_positions, evals, 0\n",
    "    \n",
    "    return [pose[0] for pose in moves], fen_positions, evals, 1"
   ]
  },
  {
   "cell_type": "code",
   "execution_count": 5,
   "id": "a5296376-ef3f-43ed-80ed-da4f0b01c754",
   "metadata": {
    "tags": []
   },
   "outputs": [],
   "source": [
    "sample_iter = islice(ds, 30_000)\n",
    "sample_list = list(sample_iter)"
   ]
  },
  {
   "cell_type": "code",
   "execution_count": 119,
   "id": "5a0ac51a-a10f-4b4b-8c85-76ea73d4c509",
   "metadata": {
    "scrolled": true,
    "tags": []
   },
   "outputs": [
    {
     "name": "stderr",
     "output_type": "stream",
     "text": [
      "30000it [01:11, 417.08it/s] \n"
     ]
    },
    {
     "name": "stdout",
     "output_type": "stream",
     "text": [
      "0.9695\n"
     ]
    }
   ],
   "source": [
    "all_moves, positions, labels, game_ids = [], [], [], []\n",
    "success = 0\n",
    "for game_id, row in tqdm(enumerate(sample_list)):\n",
    "    moves_list, fen_list, eval_list, count = extract_positions_and_evals(row[\"movetext\"])\n",
    "    success+=count\n",
    "    positions.extend(fen_list)\n",
    "    labels.extend(eval_list)\n",
    "    game_ids.extend([game_id] * len(fen_list))\n",
    "    all_moves.extend(moves_list[:len(fen_list)])\n",
    "    # break\n",
    "print(success/30000)\n",
    "df = pd.DataFrame({\"id\":game_ids, \"fen\": positions, \"move\": all_moves, \"eval\": labels})\n",
    "# df = df.groupby('id').agg({'fen_current': list, 'move': list, 'eval': list, 'eval': list, 'fen_next':list})\n",
    "df.to_csv(\"chess_positions.csv\", index=False)"
   ]
  },
  {
   "cell_type": "markdown",
   "id": "fb784857-7fa0-4878-baf9-162eec775206",
   "metadata": {},
   "source": [
    "# Fitting The Data To The Model"
   ]
  },
  {
   "cell_type": "code",
   "execution_count": 38,
   "id": "b6e4463f-ab0b-4a51-b9a1-a2325d676fcb",
   "metadata": {
    "tags": []
   },
   "outputs": [],
   "source": [
    "import chess\n",
    "import torch\n",
    "import numpy as np\n",
    "from torch.nn.utils.rnn import pad_sequence"
   ]
  },
  {
   "cell_type": "code",
   "execution_count": null,
   "id": "b8fd94c3-fd01-4999-94ee-2e5ceffff3f1",
   "metadata": {
    "tags": []
   },
   "outputs": [],
   "source": [
    "df = pd.read_csv(\"chess_positions.csv\")"
   ]
  },
  {
   "cell_type": "code",
   "execution_count": 120,
   "id": "848aa182-5ac5-409d-8d08-fce9ecc633bd",
   "metadata": {
    "tags": []
   },
   "outputs": [],
   "source": [
    "def fen_to_array(fen):\n",
    "    board = chess.Board(fen)\n",
    "    mapping = {\n",
    "        'P': 0, 'N': 1, 'B': 2, 'R': 3, 'Q': 4, 'K': 5,\n",
    "        'p': 6, 'n': 7, 'b': 8, 'r': 9, 'q': 10, 'k': 11\n",
    "    }\n",
    "    arr = np.zeros((8, 8, 12), dtype=np.int8)\n",
    "    for i in range(8):\n",
    "        for j in range(8):\n",
    "            piece = board.piece_at(i * 8 + j)\n",
    "            if piece:\n",
    "                arr[i, j, mapping[piece.symbol()]] = 1\n",
    "    return arr"
   ]
  },
  {
   "cell_type": "code",
   "execution_count": 121,
   "id": "3c304441-6a8e-417f-aca2-4b09ff3a50bd",
   "metadata": {
    "tags": []
   },
   "outputs": [],
   "source": [
    "def fen_to_numeric(fen):\n",
    "    arr = fen_to_array(fen)\n",
    "    turn = np.full((8, 8, 1), int(chess.Board(fen).turn))\n",
    "    return np.concatenate([arr, turn], axis=-1)"
   ]
  },
  {
   "cell_type": "code",
   "execution_count": 122,
   "id": "8f03cf30-25f8-48d0-a737-54c104db5c80",
   "metadata": {
    "tags": []
   },
   "outputs": [],
   "source": [
    "def fen_to_numeric(fen):\n",
    "    arr = fen_to_array(fen)\n",
    "    turn = np.full((8, 8, 1), int(chess.Board(fen).turn))\n",
    "    return np.concatenate([arr, turn], axis=-1)"
   ]
  },
  {
   "cell_type": "code",
   "execution_count": 123,
   "id": "17bcc271-d9fe-437c-ad43-ce0cccd4dd08",
   "metadata": {
    "tags": []
   },
   "outputs": [],
   "source": [
    "X = np.array([fen_to_numeric(f) for f in df[\"fen\"]])\n",
    "y = np.array(df[\"eval\"])"
   ]
  },
  {
   "cell_type": "code",
   "execution_count": null,
   "id": "ccaf98d2-72b1-4452-acbb-df934d9a30fd",
   "metadata": {},
   "outputs": [],
   "source": []
  },
  {
   "cell_type": "code",
   "execution_count": null,
   "id": "034a600a-79cf-4a2e-826b-b339d6eea898",
   "metadata": {},
   "outputs": [],
   "source": []
  },
  {
   "cell_type": "code",
   "execution_count": 102,
   "id": "745523b9-3e43-41ca-9f2e-cdbfaba3907c",
   "metadata": {
    "tags": []
   },
   "outputs": [],
   "source": [
    "all_moves = set(all_moves)"
   ]
  },
  {
   "cell_type": "code",
   "execution_count": null,
   "id": "6db6b5aa-135d-4920-b0bf-a61933929d10",
   "metadata": {},
   "outputs": [],
   "source": [
    "[item for sublist in list_2d for item in sublist]"
   ]
  },
  {
   "cell_type": "code",
   "execution_count": 117,
   "id": "a8179daf-fd81-4f5f-8358-d5addb9016c6",
   "metadata": {
    "tags": []
   },
   "outputs": [],
   "source": [
    "all_moves = sorted(set([i for j in df[\"move\"].tolist() for i in j]))\n",
    "move2idx = {m: i for i, m in enumerate(all_moves)}\n",
    "idx2move = {i: m for m, i in move2idx.items()}\n",
    "num_moves = len(move2idx)"
   ]
  },
  {
   "cell_type": "code",
   "execution_count": 104,
   "id": "358821c9-d88f-4042-86e7-21b47eb9ea4d",
   "metadata": {
    "tags": []
   },
   "outputs": [],
   "source": [
    "piece_map = {'P': 0, 'N': 1, 'B': 2, 'R': 3, 'Q': 4, 'K': 5,\n",
    "             'p': 6, 'n': 7, 'b': 8, 'r': 9, 'q': 10, 'k': 11}"
   ]
  },
  {
   "cell_type": "code",
   "execution_count": 105,
   "id": "088e3c1e-da4a-4c75-8a1f-9ec38a63e3e5",
   "metadata": {
    "tags": []
   },
   "outputs": [],
   "source": [
    "def fen_to_onehot(fen):\n",
    "    board = chess.Board(fen)\n",
    "    mat = np.zeros((8,8,12), dtype=np.float32)\n",
    "    for square in chess.SQUARES:\n",
    "        piece = board.piece_at(square)\n",
    "        if piece:\n",
    "            row = 7 - chess.square_rank(square)\n",
    "            col = chess.square_file(square)\n",
    "            idx = piece_map[piece.symbol()]\n",
    "            mat[row, col, idx] = 1.0\n",
    "    return mat"
   ]
  },
  {
   "cell_type": "code",
   "execution_count": 106,
   "id": "96ac4ff0-0bfd-4331-b9e1-d4cea4eb4b5d",
   "metadata": {
    "tags": []
   },
   "outputs": [],
   "source": [
    "def game_to_tensors(fens, vals):\n",
    "\n",
    "    X_seq = [torch.tensor(fen_to_onehot(fen)) for fen in fens[:-1]]\n",
    "    y_seq = []\n",
    "\n",
    "    for i in range(len(fens)-1):\n",
    "        move_vals = [(fens[i+1], vals[i+1])]\n",
    "        best_move = max(move_vals, key=lambda x: x[1])[0]\n",
    "        y_seq.append(move2idx[best_move])\n",
    "    \n",
    "    if len(X_seq)==0 or len(y_seq)==0:\n",
    "        return [], [], 0\n",
    "        \n",
    "    return torch.stack(X_seq), torch.tensor(y_seq), 1"
   ]
  },
  {
   "cell_type": "code",
   "execution_count": null,
   "id": "b981a0b0-2baf-4f7e-96f1-afec0d1c9f42",
   "metadata": {},
   "outputs": [],
   "source": [
    "X_list = []\n",
    "y_list = []\n",
    "scores = []\n",
    "\n",
    "for fen, move, val in zip(df[\"fen_current\"], df[\"move\"], df[\"eval\"]):\n",
    "        x_tensor = torch.tensor(fen_to_onehot(fen))\n",
    "        y_tensor = torch.tensor(move2idx[move])\n",
    "        X_list.append(x_tensor)\n",
    "        y_list.append(y_tensor)\n",
    "        scores.append(val)\n"
   ]
  },
  {
   "cell_type": "code",
   "execution_count": 107,
   "id": "40853061-2a4a-4193-9451-8958d85b8591",
   "metadata": {
    "scrolled": true,
    "tags": []
   },
   "outputs": [
    {
     "ename": "KeyError",
     "evalue": "'fen'",
     "output_type": "error",
     "traceback": [
      "\u001b[0;31m---------------------------------------------------------------------------\u001b[0m",
      "\u001b[0;31mKeyError\u001b[0m                                  Traceback (most recent call last)",
      "File \u001b[0;32m~/anaconda3/lib/python3.11/site-packages/pandas/core/indexes/base.py:3653\u001b[0m, in \u001b[0;36mIndex.get_loc\u001b[0;34m(self, key)\u001b[0m\n\u001b[1;32m   3652\u001b[0m \u001b[38;5;28;01mtry\u001b[39;00m:\n\u001b[0;32m-> 3653\u001b[0m     \u001b[38;5;28;01mreturn\u001b[39;00m \u001b[38;5;28mself\u001b[39m\u001b[38;5;241m.\u001b[39m_engine\u001b[38;5;241m.\u001b[39mget_loc(casted_key)\n\u001b[1;32m   3654\u001b[0m \u001b[38;5;28;01mexcept\u001b[39;00m \u001b[38;5;167;01mKeyError\u001b[39;00m \u001b[38;5;28;01mas\u001b[39;00m err:\n",
      "File \u001b[0;32m~/anaconda3/lib/python3.11/site-packages/pandas/_libs/index.pyx:147\u001b[0m, in \u001b[0;36mpandas._libs.index.IndexEngine.get_loc\u001b[0;34m()\u001b[0m\n",
      "File \u001b[0;32m~/anaconda3/lib/python3.11/site-packages/pandas/_libs/index.pyx:176\u001b[0m, in \u001b[0;36mpandas._libs.index.IndexEngine.get_loc\u001b[0;34m()\u001b[0m\n",
      "File \u001b[0;32mpandas/_libs/hashtable_class_helper.pxi:7080\u001b[0m, in \u001b[0;36mpandas._libs.hashtable.PyObjectHashTable.get_item\u001b[0;34m()\u001b[0m\n",
      "File \u001b[0;32mpandas/_libs/hashtable_class_helper.pxi:7088\u001b[0m, in \u001b[0;36mpandas._libs.hashtable.PyObjectHashTable.get_item\u001b[0;34m()\u001b[0m\n",
      "\u001b[0;31mKeyError\u001b[0m: 'fen'",
      "\nThe above exception was the direct cause of the following exception:\n",
      "\u001b[0;31mKeyError\u001b[0m                                  Traceback (most recent call last)",
      "Cell \u001b[0;32mIn[107], line 3\u001b[0m\n\u001b[1;32m      1\u001b[0m X_list \u001b[38;5;241m=\u001b[39m []\n\u001b[1;32m      2\u001b[0m y_list \u001b[38;5;241m=\u001b[39m []\n\u001b[0;32m----> 3\u001b[0m \u001b[38;5;28;01mfor\u001b[39;00m fens, vals \u001b[38;5;129;01min\u001b[39;00m tqdm(\u001b[38;5;28mzip\u001b[39m(df[\u001b[38;5;124m\"\u001b[39m\u001b[38;5;124mfen\u001b[39m\u001b[38;5;124m\"\u001b[39m], df[\u001b[38;5;124m\"\u001b[39m\u001b[38;5;124meval\u001b[39m\u001b[38;5;124m\"\u001b[39m])):\n\u001b[1;32m      4\u001b[0m     X_seq, y_seq, ok \u001b[38;5;241m=\u001b[39m game_to_tensors(fens[:\u001b[38;5;241m100\u001b[39m], vals[:\u001b[38;5;241m100\u001b[39m])\n\u001b[1;32m      5\u001b[0m     \u001b[38;5;28;01mif\u001b[39;00m ok:\n",
      "File \u001b[0;32m~/anaconda3/lib/python3.11/site-packages/pandas/core/frame.py:3761\u001b[0m, in \u001b[0;36mDataFrame.__getitem__\u001b[0;34m(self, key)\u001b[0m\n\u001b[1;32m   3759\u001b[0m \u001b[38;5;28;01mif\u001b[39;00m \u001b[38;5;28mself\u001b[39m\u001b[38;5;241m.\u001b[39mcolumns\u001b[38;5;241m.\u001b[39mnlevels \u001b[38;5;241m>\u001b[39m \u001b[38;5;241m1\u001b[39m:\n\u001b[1;32m   3760\u001b[0m     \u001b[38;5;28;01mreturn\u001b[39;00m \u001b[38;5;28mself\u001b[39m\u001b[38;5;241m.\u001b[39m_getitem_multilevel(key)\n\u001b[0;32m-> 3761\u001b[0m indexer \u001b[38;5;241m=\u001b[39m \u001b[38;5;28mself\u001b[39m\u001b[38;5;241m.\u001b[39mcolumns\u001b[38;5;241m.\u001b[39mget_loc(key)\n\u001b[1;32m   3762\u001b[0m \u001b[38;5;28;01mif\u001b[39;00m is_integer(indexer):\n\u001b[1;32m   3763\u001b[0m     indexer \u001b[38;5;241m=\u001b[39m [indexer]\n",
      "File \u001b[0;32m~/anaconda3/lib/python3.11/site-packages/pandas/core/indexes/base.py:3655\u001b[0m, in \u001b[0;36mIndex.get_loc\u001b[0;34m(self, key)\u001b[0m\n\u001b[1;32m   3653\u001b[0m     \u001b[38;5;28;01mreturn\u001b[39;00m \u001b[38;5;28mself\u001b[39m\u001b[38;5;241m.\u001b[39m_engine\u001b[38;5;241m.\u001b[39mget_loc(casted_key)\n\u001b[1;32m   3654\u001b[0m \u001b[38;5;28;01mexcept\u001b[39;00m \u001b[38;5;167;01mKeyError\u001b[39;00m \u001b[38;5;28;01mas\u001b[39;00m err:\n\u001b[0;32m-> 3655\u001b[0m     \u001b[38;5;28;01mraise\u001b[39;00m \u001b[38;5;167;01mKeyError\u001b[39;00m(key) \u001b[38;5;28;01mfrom\u001b[39;00m \u001b[38;5;21;01merr\u001b[39;00m\n\u001b[1;32m   3656\u001b[0m \u001b[38;5;28;01mexcept\u001b[39;00m \u001b[38;5;167;01mTypeError\u001b[39;00m:\n\u001b[1;32m   3657\u001b[0m     \u001b[38;5;66;03m# If we have a listlike key, _check_indexing_error will raise\u001b[39;00m\n\u001b[1;32m   3658\u001b[0m     \u001b[38;5;66;03m#  InvalidIndexError. Otherwise we fall through and re-raise\u001b[39;00m\n\u001b[1;32m   3659\u001b[0m     \u001b[38;5;66;03m#  the TypeError.\u001b[39;00m\n\u001b[1;32m   3660\u001b[0m     \u001b[38;5;28mself\u001b[39m\u001b[38;5;241m.\u001b[39m_check_indexing_error(key)\n",
      "\u001b[0;31mKeyError\u001b[0m: 'fen'"
     ]
    }
   ],
   "source": [
    "# old code\n",
    "# piece_map = {'P': 0, 'N': 1, 'B': 2, 'R': 3, 'Q': 4, 'K': 5,\n",
    "#              'p': 6, 'n': 7, 'b': 8, 'r': 9, 'q': 10, 'k': 11}\n",
    "# def fen_to_onehot(fen):\n",
    "#     board = chess.Board(fen)\n",
    "#     mat = np.zeros((8,8,12), dtype=np.float32)\n",
    "#     for square in chess.SQUARES:\n",
    "#         piece = board.piece_at(square)\n",
    "#         if piece:\n",
    "#             row = 7 - chess.square_rank(square)\n",
    "#             col = chess.square_file(square)\n",
    "#             idx = piece_map[piece.symbol()]\n",
    "#             mat[row, col, idx] = 1.0\n",
    "#     return mat\n",
    "# def game_to_tensors(fens, vals):\n",
    "\n",
    "#     X_seq = [torch.tensor(fen_to_onehot(fen)) for fen in fens[:-1]]\n",
    "#     y_seq = []\n",
    "\n",
    "#     for i in range(len(fens)-1):\n",
    "#         move_vals = [(fens[i+1], vals[i+1])]\n",
    "#         best_move = max(move_vals, key=lambda x: x[1])[0]\n",
    "#         y_seq.append(move2idx[best_move])\n",
    "    \n",
    "#     if len(X_seq)==0 or len(y_seq)==0:\n",
    "#         return [], [], 0\n",
    "        \n",
    "#     return torch.stack(X_seq), torch.tensor(y_seq), 1\n",
    "# X_list = []\n",
    "# y_list = []\n",
    "# for fens, vals in tqdm(zip(df[\"fen\"], df[\"eval\"])):\n",
    "#     X_seq, y_seq, ok = game_to_tensors(fens[:100], vals[:100])\n",
    "#     if ok:\n",
    "#         X_list.append(X_seq)\n",
    "#         y_list.append(y_seq)\n",
    "\n",
    "# X_padded = pad_sequence(X_list, batch_first=True)\n",
    "# y_padded = pad_sequence(y_list, batch_first=True, padding_value=-1)"
   ]
  },
  {
   "cell_type": "code",
   "execution_count": 74,
   "id": "11030b35-d1f2-4646-bcbb-9c3a4d3815e7",
   "metadata": {
    "tags": []
   },
   "outputs": [],
   "source": [
    "torch.save({\"X\": X_padded, \"y\": y_padded}, \"data.pt\")"
   ]
  },
  {
   "cell_type": "markdown",
   "id": "21d632e7-d268-40ec-9de9-76644c1cedc3",
   "metadata": {
    "tags": []
   },
   "source": [
    "# Training"
   ]
  },
  {
   "cell_type": "code",
   "execution_count": 65,
   "id": "ed5cd048-c9d4-48ba-ab17-a5545443bf72",
   "metadata": {
    "tags": []
   },
   "outputs": [],
   "source": [
    "from sklearn.model_selection import train_test_split\n",
    "from torch.utils.data import DataLoader, TensorDataset"
   ]
  },
  {
   "cell_type": "code",
   "execution_count": 68,
   "id": "a443144e-bc89-4979-b69c-64eccc8395a0",
   "metadata": {
    "tags": []
   },
   "outputs": [],
   "source": [
    "# simple model\n",
    "import torch\n",
    "import torch.nn as nn\n",
    "\n",
    "class ChessMovePredictor(nn.Module):\n",
    "    def __init__(self, num_moves):\n",
    "        super().__init__()\n",
    "        self.flatten = nn.Flatten(start_dim=2)\n",
    "        self.lstm = nn.LSTM(8*8*12, 256, batch_first=True)\n",
    "        self.fc = nn.Linear(256, num_moves)\n",
    "\n",
    "    def forward(self, x):\n",
    "        x = self.flatten(x) \n",
    "        out, _ = self.lstm(x)\n",
    "        logits = self.fc(out)\n",
    "        return logits"
   ]
  },
  {
   "cell_type": "code",
   "execution_count": null,
   "id": "3c3d6a08-ab13-4c8e-9ddc-ead47dedaef2",
   "metadata": {},
   "outputs": [],
   "source": [
    "data = torch.load(\"data.pt\")\n",
    "X_padded = data[\"X\"]\n",
    "y_padded = data[\"y\"]"
   ]
  },
  {
   "cell_type": "code",
   "execution_count": 64,
   "id": "04d1d1f7-fa37-46dd-97fd-4512267f15ed",
   "metadata": {
    "tags": []
   },
   "outputs": [],
   "source": [
    "X_train, X_test, y_train, y_test = train_test_split(X_padded, y_padded, test_size=0.2, random_state=42)"
   ]
  },
  {
   "cell_type": "code",
   "execution_count": 66,
   "id": "050be0fa-5a36-431f-86b1-c98bc18adb5d",
   "metadata": {
    "tags": []
   },
   "outputs": [],
   "source": [
    "train_ds = TensorDataset(X_train, y_train)\n",
    "test_ds = TensorDataset(X_test, y_test)\n",
    "\n",
    "train_loader = DataLoader(train_ds, batch_size=16, shuffle=True)\n",
    "test_loader = DataLoader(test_ds, batch_size=16)"
   ]
  },
  {
   "cell_type": "code",
   "execution_count": null,
   "id": "e5c7430e-eae8-4f28-ad4d-876460613057",
   "metadata": {},
   "outputs": [],
   "source": [
    "device = torch.device(\"cuda\" if torch.cuda.is_available() else \"cpu\")\n",
    "model = ChessMovePredictor(num_moves=len(move2idx)).to(device)\n",
    "\n",
    "criterion = nn.CrossEntropyLoss(ignore_index=-1)\n",
    "optimizer = torch.optim.Adam(model.parameters(), lr=1e-3)\n",
    "\n",
    "for epoch in range(3):\n",
    "    model.train()\n",
    "    total_loss = 0\n",
    "    for X_batch, y_batch in train_loader:\n",
    "        X_batch, y_batch = X_batch.to(device), y_batch.to(device)\n",
    "        optimizer.zero_grad()\n",
    "        logits = model(X_batch)\n",
    "        loss = criterion(logits.view(-1, len(move2idx)), y_batch.view(-1))\n",
    "        loss.backward()\n",
    "        optimizer.step()\n",
    "        total_loss += loss.item()\n",
    "    print(f\"Epoch {epoch+1}, Loss: {total_loss / len(train_loader):.4f}\")"
   ]
  },
  {
   "cell_type": "code",
   "execution_count": null,
   "id": "6bc74b0f-2f52-43d6-a256-e6fdb495ae8c",
   "metadata": {},
   "outputs": [],
   "source": []
  }
 ],
 "metadata": {
  "kernelspec": {
   "display_name": "Python 3 (ipykernel)",
   "language": "python",
   "name": "python3"
  },
  "language_info": {
   "codemirror_mode": {
    "name": "ipython",
    "version": 3
   },
   "file_extension": ".py",
   "mimetype": "text/x-python",
   "name": "python",
   "nbconvert_exporter": "python",
   "pygments_lexer": "ipython3",
   "version": "3.11.5"
  }
 },
 "nbformat": 4,
 "nbformat_minor": 5
}
