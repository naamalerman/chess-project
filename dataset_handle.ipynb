{
 "cells": [
  {
   "cell_type": "code",
   "execution_count": 3,
   "id": "3c74aa01-fd1a-43b4-b3fd-0424f8ae5433",
   "metadata": {
    "tags": []
   },
   "outputs": [],
   "source": [
    "import re\n",
    "import csv\n",
    "import json\n",
    "import chess\n",
    "import numpy as np\n",
    "import pandas as pd\n",
    "from tqdm import tqdm\n",
    "from itertools import islice\n",
    "from datasets import load_dataset\n",
    "\n",
    "\n",
    "import torch\n",
    "from torch.nn.utils.rnn import pad_sequence\n",
    "from torch.utils.data import DataLoader, TensorDataset"
   ]
  },
  {
   "cell_type": "markdown",
   "id": "9ab5ef1c-b868-42fd-a265-8b080d1a167c",
   "metadata": {},
   "source": [
    "# Data Arrangement"
   ]
  },
  {
   "cell_type": "code",
   "execution_count": 134,
   "id": "2bf3b79d-89f2-4f04-b847-000bf610f507",
   "metadata": {
    "scrolled": true,
    "tags": []
   },
   "outputs": [],
   "source": [
    "ds = load_dataset(\"austindavis/lichess-uci\", split=\"train\", streaming=True)"
   ]
  },
  {
   "cell_type": "code",
   "execution_count": 157,
   "id": "67936170-3d97-4693-a889-cb832de4d83b",
   "metadata": {
    "tags": []
   },
   "outputs": [],
   "source": [
    "def extract_positions_and_evals(moves_str):\n",
    "    move_san, fen_positions = [], []\n",
    "    board = chess.Board()\n",
    "    moves = moves_str.split()\n",
    "    for pose in moves:\n",
    "        try:\n",
    "            fen_positions.append(board.fen())\n",
    "            board.push_san(pose)\n",
    "        except:\n",
    "            return moves, fen_positions\n",
    "\n",
    "    return moves, fen_positions"
   ]
  },
  {
   "cell_type": "code",
   "execution_count": 136,
   "id": "a5296376-ef3f-43ed-80ed-da4f0b01c754",
   "metadata": {
    "tags": []
   },
   "outputs": [],
   "source": [
    "sample_iter = islice(ds, 10_000)\n",
    "sample_list = list(sample_iter)"
   ]
  },
  {
   "cell_type": "code",
   "execution_count": 158,
   "id": "5a0ac51a-a10f-4b4b-8c85-76ea73d4c509",
   "metadata": {
    "scrolled": true,
    "tags": []
   },
   "outputs": [
    {
     "name": "stderr",
     "output_type": "stream",
     "text": [
      "10000it [00:19, 515.15it/s]"
     ]
    },
    {
     "name": "stdout",
     "output_type": "stream",
     "text": [
      "0.9838\n"
     ]
    },
    {
     "name": "stderr",
     "output_type": "stream",
     "text": [
      "\n"
     ]
    }
   ],
   "source": [
    "all_moves, positions, labels, game_ids = [], [], [], []\n",
    "for game_id, row in tqdm(enumerate(sample_list)):\n",
    "    moves_list, fen_list = extract_positions_and_evals(row[\"Transcript\"])\n",
    "    positions.extend(fen_list)\n",
    "    all_moves.extend(moves_list[:len(fen_list)])\n",
    "df = pd.DataFrame({\"fen\": positions, \"move\": all_moves})\n",
    "# df.to_csv(\"chess_positions.csv\", index=False)"
   ]
  },
  {
   "cell_type": "markdown",
   "id": "fb784857-7fa0-4878-baf9-162eec775206",
   "metadata": {},
   "source": [
    "# Fitting The Data To The Model"
   ]
  },
  {
   "cell_type": "code",
   "execution_count": null,
   "id": "b8fd94c3-fd01-4999-94ee-2e5ceffff3f1",
   "metadata": {
    "tags": []
   },
   "outputs": [],
   "source": [
    "df = pd.read_csv(\"chess_positions.csv\")"
   ]
  },
  {
   "cell_type": "code",
   "execution_count": 120,
   "id": "848aa182-5ac5-409d-8d08-fce9ecc633bd",
   "metadata": {
    "tags": []
   },
   "outputs": [],
   "source": [
    "piece_map = {'P':0,'N':1,'B':2,'R':3,'Q':4,'K':5,\n",
    "             'p':6,'n':7,'b':8,'r':9,'q':10,'k':11}\n",
    "\n",
    "def fen_to_tensor(fen):\n",
    "    board = chess.Board(fen)\n",
    "    mat = np.zeros((8,8,12), dtype=np.float32)\n",
    "    for square in chess.SQUARES:\n",
    "        piece = board.piece_at(square)\n",
    "        if piece:\n",
    "            row = 7 - chess.square_rank(square)\n",
    "            col = chess.square_file(square)\n",
    "            mat[row, col, piece_map[piece.symbol()]] = 1.0\n",
    "    turn_channel = np.full((8,8,1), int(board.turn), dtype=np.float32)\n",
    "    mat = np.concatenate([mat, turn_channel], axis=-1)\n",
    "    return mat"
   ]
  },
  {
   "cell_type": "code",
   "execution_count": 121,
   "id": "3c304441-6a8e-417f-aca2-4b09ff3a50bd",
   "metadata": {
    "tags": []
   },
   "outputs": [],
   "source": [
    "all_moves = sorted(set(df[\"move\"].to_list()))\n",
    "move2idx = {m:i for i,m in enumerate(all_moves)}\n",
    "idx2move = {i:m for m,i in move2idx.items()}\n",
    "\n",
    "X_list = [fen_to_tensor(fen) for fen in df[\"fen\"]]\n",
    "\n",
    "X = torch.tensor(np.array(X_list), dtype=torch.float32).permute(0,3,1,2)\n",
    "y_move = torch.tensor([move2idx[m] for m in df[\"move\"]], dtype=torch.long)\n"
   ]
  },
  {
   "cell_type": "code",
   "execution_count": null,
   "id": "15fccefa-9dd3-44e6-b482-8ddb259ab65a",
   "metadata": {},
   "outputs": [],
   "source": [
    "torch.save({\"X\": X, \"y_move\": y_move}, \"data.pt\")\n",
    "\n",
    "with open('my_dict.json', 'w') as f:\n",
    "    json.dump(move2idx, f)"
   ]
  },
  {
   "cell_type": "markdown",
   "id": "21d632e7-d268-40ec-9de9-76644c1cedc3",
   "metadata": {
    "tags": []
   },
   "source": [
    "# Training"
   ]
  },
  {
   "cell_type": "code",
   "execution_count": 68,
   "id": "a443144e-bc89-4979-b69c-64eccc8395a0",
   "metadata": {
    "tags": []
   },
   "outputs": [],
   "source": [
    "import torch\n",
    "import torch.nn as nn\n",
    "\n",
    "class ChessMovePredictor(nn.Module):\n",
    "    def __init__(self, num_moves):\n",
    "        super().__init__()\n",
    "        self.conv1 = nn.Conv2d(13, 32, kernel_size=3, padding=1)\n",
    "        self.conv2 = nn.Conv2d(32, 64, kernel_size=3, padding=1)\n",
    "        self.pool = nn.MaxPool2d(2, 2)\n",
    "        self.fc1 = nn.Linear(64 * 4 * 4, 256)\n",
    "        self.fc_move = nn.Linear(256, num_moves)\n",
    "\n",
    "    def forward(self, x):\n",
    "        x = torch.relu(self.conv1(x))\n",
    "        x = self.pool(torch.relu(self.conv2(x)))\n",
    "        x = x.view(x.size(0), -1)\n",
    "        x = torch.relu(self.fc1(x))\n",
    "        return self.fc_move(x)"
   ]
  },
  {
   "cell_type": "code",
   "execution_count": 13,
   "id": "3c3d6a08-ab13-4c8e-9ddc-ead47dedaef2",
   "metadata": {},
   "outputs": [],
   "source": [
    "data = torch.load(\"data.pt\")\n",
    "X = data[\"X\"]\n",
    "y_move = data[\"y_move\"]\n",
    "\n",
    "with open('move_idx.json', 'r') as f:\n",
    "    move2idx = json.load(f)"
   ]
  },
  {
   "cell_type": "code",
   "execution_count": 64,
   "id": "04d1d1f7-fa37-46dd-97fd-4512267f15ed",
   "metadata": {
    "tags": []
   },
   "outputs": [],
   "source": [
    "dataset = TensorDataset(X, y_move)\n",
    "loader = DataLoader(dataset, batch_size=16, shuffle=True)\n",
    "\n",
    "device = torch.device(\"cuda\" if torch.cuda.is_available() else \"cpu\")\n",
    "model = ChessMovePredictor(num_moves=len(move2idx)).to(device)\n",
    "\n",
    "criterion_move = nn.CrossEntropyLoss()\n",
    "optimizer = torch.optim.Adam(model.parameters(), lr=1e-3)"
   ]
  },
  {
   "cell_type": "code",
   "execution_count": null,
   "id": "e5c7430e-eae8-4f28-ad4d-876460613057",
   "metadata": {},
   "outputs": [],
   "source": [
    "for epoch in range(5):\n",
    "    model.train()\n",
    "    total_loss = 0.0\n",
    "    total_samples = 0\n",
    "\n",
    "    for X_batch, y_move_batch in loader:\n",
    "        X_batch = X_batch.to(device)\n",
    "        y_move_batch = y_move_batch.to(device)\n",
    "\n",
    "        optimizer.zero_grad()\n",
    "        logits_move = model(X_batch)\n",
    "\n",
    "        loss = criterion_move(logits_move, y_move_batch)\n",
    "        loss.backward()\n",
    "        optimizer.step()\n",
    "\n",
    "        total_loss += loss.item() * X_batch.size(0)\n",
    "        total_samples += X_batch.size(0)\n",
    "\n",
    "    epoch_loss = total_loss / total_samples\n",
    "    print(f\"Epoch {epoch+1}, Loss: {epoch_loss:.4f}\")\n"
   ]
  },
  {
   "cell_type": "code",
   "execution_count": null,
   "id": "6bc74b0f-2f52-43d6-a256-e6fdb495ae8c",
   "metadata": {},
   "outputs": [],
   "source": [
    "torch.save(model.state_dict(), \"chess_model.pth\")"
   ]
  },
  {
   "cell_type": "markdown",
   "id": "af07f382-54b6-494c-9e5f-c3f2924f778d",
   "metadata": {},
   "source": [
    "# extend move2idx"
   ]
  },
  {
   "cell_type": "code",
   "execution_count": null,
   "id": "cbaaef57-661c-4867-8ad4-a71d5ae71082",
   "metadata": {},
   "outputs": [],
   "source": [
    "df_old = pd.read_csv(\"chess_positions.csv\")\n",
    "df_new = pd.read_csv(\"chess_positions_new.csv\")"
   ]
  },
  {
   "cell_type": "code",
   "execution_count": null,
   "id": "d42c1c6b-a8dc-4ecb-9527-b1fb08097c9e",
   "metadata": {},
   "outputs": [],
   "source": [
    "all_moves = sorted(set(df_old[\"move\"]) | set(df_new[\"move\"]))\n",
    "move2idx = {m: i for i, m in enumerate(all_moves)}\n",
    "idx2move = {i: m for m, i in move2idx.items()}"
   ]
  },
  {
   "cell_type": "code",
   "execution_count": null,
   "id": "80f000e5-85db-4f67-b61f-d2d3ef9e0918",
   "metadata": {},
   "outputs": [],
   "source": [
    "y_move_old = torch.tensor([move2idx[m] for m in df_old[\"move\"]])\n",
    "y_move_new = torch.tensor([move2idx[m] for m in df_new[\"moves\"]])"
   ]
  },
  {
   "cell_type": "code",
   "execution_count": null,
   "id": "d22bb630-e533-4196-bc31-1856d8844732",
   "metadata": {},
   "outputs": [],
   "source": [
    "data = torch.load(\"/content/drive/MyDrive/python/chess_dataset/data.pt\")\n",
    "X_old = data[\"X\"]\n",
    "X_list = [fen_to_tensor(fen) for fen in df_new[\"fen\"]]\n",
    "X_new = torch.tensor(np.array(X_list), dtype=torch.float32).permute(0,3,1,2)"
   ]
  },
  {
   "cell_type": "code",
   "execution_count": null,
   "id": "bee6e3c3-1cde-409e-ba5f-96e5bb6a45dd",
   "metadata": {},
   "outputs": [],
   "source": [
    "X_total = torch.cat([X_old, X_new])\n",
    "y_total = torch.cat([y_move_old, y_move_new])"
   ]
  },
  {
   "cell_type": "code",
   "execution_count": null,
   "id": "1363b4e1-ef66-4180-9b68-6f7cc355e9f2",
   "metadata": {},
   "outputs": [],
   "source": [
    "with open('/content/drive/MyDrive/python/chess_dataset/move_idx.json', 'r') as f:\n",
    "    old_move2idx = json.load(f)"
   ]
  },
  {
   "cell_type": "code",
   "execution_count": null,
   "id": "1a496b7d-6e99-4ced-adaf-1bf6609ed990",
   "metadata": {},
   "outputs": [],
   "source": [
    "import torch\n",
    "import torch.nn as nn\n",
    "\n",
    "model = ChessMovePredictor(num_moves=len(old_move2idx))\n",
    "model.load_state_dict(torch.load(\"/content/drive/MyDrive/python/chess_dataset/chess_model.pth\"))\n",
    "\n",
    "new_num_moves = len(move2idx)\n",
    "\n",
    "old_weight = model.fc_move.weight.data\n",
    "old_bias = model.fc_move.bias.data\n",
    "\n",
    "model.fc_move = nn.Linear(256, new_num_moves)\n",
    "\n",
    "model.fc_move.weight.data[:old_weight.shape[0]] = old_weight\n",
    "model.fc_move.bias.data[:old_bias.shape[0]] = old_bias\n"
   ]
  },
  {
   "cell_type": "code",
   "execution_count": null,
   "id": "4385898c-bba9-4173-8bcc-5fb4955d98df",
   "metadata": {},
   "outputs": [],
   "source": [
    "dataset = TensorDataset(X_total, y_total)\n",
    "loader = DataLoader(dataset, batch_size=16, shuffle=True)\n",
    "\n",
    "device = torch.device(\"cuda\" if torch.cuda.is_available() else \"cpu\")\n",
    "model = model.to(device)\n",
    "criterion_move = nn.CrossEntropyLoss()\n",
    "optimizer = torch.optim.Adam(model.parameters(), lr=1e-3)"
   ]
  },
  {
   "cell_type": "code",
   "execution_count": null,
   "id": "d3d3c66e-3720-4837-b94f-4f158e225e29",
   "metadata": {},
   "outputs": [],
   "source": [
    "for epoch in range(5):\n",
    "    model.train()\n",
    "    total_loss = 0.0\n",
    "    total_samples = 0\n",
    "\n",
    "    for X_batch, y_move_batch in loader:\n",
    "        X_batch = X_batch.to(device)\n",
    "        y_move_batch = y_move_batch.to(device)\n",
    "\n",
    "        optimizer.zero_grad()\n",
    "        logits_move = model(X_batch)\n",
    "\n",
    "        loss = criterion_move(logits_move, y_move_batch)\n",
    "        loss.backward()\n",
    "        optimizer.step()\n",
    "\n",
    "        total_loss += loss.item() * X_batch.size(0)\n",
    "        total_samples += X_batch.size(0)\n",
    "\n",
    "    epoch_loss = total_loss / total_samples\n",
    "    print(f\"Epoch {epoch+1}, Loss: {epoch_loss:.4f}\")"
   ]
  },
  {
   "cell_type": "code",
   "execution_count": null,
   "id": "40fb33e1-a7fd-4ad1-a791-48194cabc133",
   "metadata": {},
   "outputs": [],
   "source": [
    "torch.save(model.state_dict(), \"/content/drive/MyDrive/python/chess_dataset/chess_model_games.pth\")"
   ]
  }
 ],
 "metadata": {
  "kernelspec": {
   "display_name": "Python 3 (ipykernel)",
   "language": "python",
   "name": "python3"
  },
  "language_info": {
   "codemirror_mode": {
    "name": "ipython",
    "version": 3
   },
   "file_extension": ".py",
   "mimetype": "text/x-python",
   "name": "python",
   "nbconvert_exporter": "python",
   "pygments_lexer": "ipython3",
   "version": "3.11.5"
  }
 },
 "nbformat": 4,
 "nbformat_minor": 5
}
